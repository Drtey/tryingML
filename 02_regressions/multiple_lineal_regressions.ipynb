{
  "nbformat": 4,
  "nbformat_minor": 0,
  "metadata": {
    "colab": {
      "name": "multiple_lineal_regressions.ipynb",
      "provenance": [],
      "collapsed_sections": [],
      "authorship_tag": "ABX9TyOqLMIQEcOuBUJ6DS98/NHh",
      "include_colab_link": true
    },
    "kernelspec": {
      "name": "python3",
      "display_name": "Python 3"
    },
    "language_info": {
      "name": "python"
    }
  },
  "cells": [
    {
      "cell_type": "markdown",
      "metadata": {
        "id": "view-in-github",
        "colab_type": "text"
      },
      "source": [
        "<a href=\"https://colab.research.google.com/github/Drtey/tryingML/blob/main/02_regressions/multiple_lineal_regressions.ipynb\" target=\"_parent\"><img src=\"https://colab.research.google.com/assets/colab-badge.svg\" alt=\"Open In Colab\"/></a>"
      ]
    },
    {
      "cell_type": "code",
      "execution_count": 2,
      "metadata": {
        "id": "8zHxaD5w3wJJ"
      },
      "outputs": [],
      "source": [
        "import numpy as np\n",
        "import matplotlib.pyplot as plt\n",
        "import pandas as pd"
      ]
    },
    {
      "cell_type": "code",
      "source": [
        "dataset = pd.read_csv('50_Startups.csv')\n",
        "x = dataset.iloc[:, :-1].values\n",
        "y = dataset.iloc[:, -1].values"
      ],
      "metadata": {
        "id": "zANX9bq-4gzB"
      },
      "execution_count": 4,
      "outputs": []
    },
    {
      "cell_type": "code",
      "source": [
        "from sklearn.compose import ColumnTransformer\n",
        "from sklearn.preprocessing import OneHotEncoder\n",
        "ct = ColumnTransformer(transformers=[('encoder', OneHotEncoder(), [3])], remainder='passthrough')\n",
        "x = np.array(ct.fit_transform(x))"
      ],
      "metadata": {
        "colab": {
          "base_uri": "https://localhost:8080/"
        },
        "id": "o2OWugo3MkV1",
        "outputId": "7c0c4a01-6389-41ce-92da-c6082ac75a5c"
      },
      "execution_count": 6,
      "outputs": [
        {
          "output_type": "stream",
          "name": "stdout",
          "text": [
            "  (0, 48)\t1.0\n",
            "  (0, 51)\t1.0\n",
            "  (0, 52)\t136897.8\n",
            "  (0, 53)\t471784.1\n",
            "  (1, 47)\t1.0\n",
            "  (1, 49)\t1.0\n",
            "  (1, 52)\t151377.59\n",
            "  (1, 53)\t443898.53\n",
            "  (2, 46)\t1.0\n",
            "  (2, 50)\t1.0\n",
            "  (2, 52)\t101145.55\n",
            "  (2, 53)\t407934.54\n",
            "  (3, 45)\t1.0\n",
            "  (3, 51)\t1.0\n",
            "  (3, 52)\t118671.85\n",
            "  (3, 53)\t383199.62\n",
            "  (4, 44)\t1.0\n",
            "  (4, 50)\t1.0\n",
            "  (4, 52)\t91391.77\n",
            "  (4, 53)\t366168.42\n",
            "  (5, 42)\t1.0\n",
            "  (5, 51)\t1.0\n",
            "  (5, 52)\t99814.71\n",
            "  (5, 53)\t362861.36\n",
            "  (6, 43)\t1.0\n",
            "  :\t:\n",
            "  (43, 51)\t1.0\n",
            "  (43, 52)\t127382.3\n",
            "  (43, 53)\t35534.17\n",
            "  (44, 6)\t1.0\n",
            "  (44, 49)\t1.0\n",
            "  (44, 52)\t154806.14\n",
            "  (44, 53)\t28334.72\n",
            "  (45, 2)\t1.0\n",
            "  (45, 51)\t1.0\n",
            "  (45, 52)\t124153.04\n",
            "  (45, 53)\t1903.93\n",
            "  (46, 3)\t1.0\n",
            "  (46, 50)\t1.0\n",
            "  (46, 52)\t115816.21\n",
            "  (46, 53)\t297114.46\n",
            "  (47, 0)\t1.0\n",
            "  (47, 49)\t1.0\n",
            "  (47, 52)\t135426.92\n",
            "  (48, 1)\t1.0\n",
            "  (48, 51)\t1.0\n",
            "  (48, 52)\t51743.15\n",
            "  (49, 0)\t1.0\n",
            "  (49, 49)\t1.0\n",
            "  (49, 52)\t116983.8\n",
            "  (49, 53)\t45173.06\n"
          ]
        }
      ]
    }
  ]
}